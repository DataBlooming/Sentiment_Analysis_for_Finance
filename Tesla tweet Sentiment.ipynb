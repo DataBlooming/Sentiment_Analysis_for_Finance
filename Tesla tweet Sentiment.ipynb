{
 "cells": [
  {
   "cell_type": "markdown",
   "id": "c443db84-0e3c-432a-9275-9feb8484af4d",
   "metadata": {},
   "source": [
    "# Project: Sentiment Analysis on Tweets About Tesla Using FinBERT"
   ]
  },
  {
   "cell_type": "markdown",
   "id": "94d2fc7d-276c-410a-8278-e4342fadf40a",
   "metadata": {},
   "source": [
    "This project performs sentiment analysis on tweets related to Tesla using FinBERT, a pre-trained language model specifically tuned for financial texts. Given the market influence of Tesla and its CEO's frequent and impactful presence on social media, analyzing public sentiment toward Tesla can offer valuable insights. The FinBERT model is applied to classify each tweet as positive, negative, or neutral from a financial perspective. This notebook covers data collection, text preprocessing, sentiment classification, and visualization of sentiment trends.\n",
    "\n",
    "The datasets can be downloaded from Kaggle: \n",
    "https://www.kaggle.com/datasets/omermetinn/tweets-about-the-top-companies-from-2015-to-2020"
   ]
  },
  {
   "cell_type": "code",
   "execution_count": 1,
   "id": "edc4d179-eb04-4869-8bda-636a851043bd",
   "metadata": {},
   "outputs": [],
   "source": [
    "#pip install kagglehub\n",
    "#pip install transformers\n",
    "#pip install finbert-embedding\n",
    "#pip install huggingface_hub[hf_xet]"
   ]
  },
  {
   "cell_type": "code",
   "execution_count": 2,
   "id": "59397845-f1a3-4510-be26-04d61b170ff6",
   "metadata": {},
   "outputs": [],
   "source": [
    "import numpy as np\n",
    "import pandas as pd\n",
    "import kagglehub\n",
    "import matplotlib.pyplot as plt\n",
    "import huggingface_hub\n",
    "from transformers import pipeline\n",
    "from transformers import AutoTokenizer, AutoModelForSequenceClassification"
   ]
  },
  {
   "cell_type": "markdown",
   "id": "365443f5-b392-4636-918b-568a154c5817",
   "metadata": {},
   "source": [
    "# Data overview"
   ]
  },
  {
   "cell_type": "code",
   "execution_count": 3,
   "id": "f124a152-65e5-4bc3-9dcb-9e763dc7988f",
   "metadata": {},
   "outputs": [],
   "source": [
    "# Download latest version\n",
    "# path = kagglehub.dataset_download(\"omermetinn/tweets-about-the-top-companies-from-2015-to-2020\")\n",
    "# print(\"Path to dataset files:\", path)"
   ]
  },
  {
   "cell_type": "code",
   "execution_count": 4,
   "id": "f4ed80f7-43dd-4afb-bfaf-6080ba8595f6",
   "metadata": {},
   "outputs": [],
   "source": [
    "df1 = pd.read_csv('Company.csv')\n",
    "df2 = pd.read_csv('Company_Tweet.csv')\n",
    "df3 = pd.read_csv('Tweet.csv')"
   ]
  },
  {
   "cell_type": "code",
   "execution_count": 5,
   "id": "1bb8e394-55d7-4505-bc2d-976e2bc617c8",
   "metadata": {},
   "outputs": [
    {
     "data": {
      "text/html": [
       "<div>\n",
       "<style scoped>\n",
       "    .dataframe tbody tr th:only-of-type {\n",
       "        vertical-align: middle;\n",
       "    }\n",
       "\n",
       "    .dataframe tbody tr th {\n",
       "        vertical-align: top;\n",
       "    }\n",
       "\n",
       "    .dataframe thead th {\n",
       "        text-align: right;\n",
       "    }\n",
       "</style>\n",
       "<table border=\"1\" class=\"dataframe\">\n",
       "  <thead>\n",
       "    <tr style=\"text-align: right;\">\n",
       "      <th></th>\n",
       "      <th>ticker_symbol</th>\n",
       "      <th>company_name</th>\n",
       "    </tr>\n",
       "  </thead>\n",
       "  <tbody>\n",
       "    <tr>\n",
       "      <th>0</th>\n",
       "      <td>AAPL</td>\n",
       "      <td>apple</td>\n",
       "    </tr>\n",
       "    <tr>\n",
       "      <th>1</th>\n",
       "      <td>GOOG</td>\n",
       "      <td>Google Inc</td>\n",
       "    </tr>\n",
       "    <tr>\n",
       "      <th>2</th>\n",
       "      <td>GOOGL</td>\n",
       "      <td>Google Inc</td>\n",
       "    </tr>\n",
       "  </tbody>\n",
       "</table>\n",
       "</div>"
      ],
      "text/plain": [
       "  ticker_symbol company_name\n",
       "0          AAPL        apple\n",
       "1          GOOG   Google Inc\n",
       "2         GOOGL   Google Inc"
      ]
     },
     "execution_count": 5,
     "metadata": {},
     "output_type": "execute_result"
    }
   ],
   "source": [
    "df1.head(3)"
   ]
  },
  {
   "cell_type": "code",
   "execution_count": 6,
   "id": "cbe414a6-68f6-4f05-84f1-474c06c54fb4",
   "metadata": {},
   "outputs": [
    {
     "data": {
      "text/html": [
       "<div>\n",
       "<style scoped>\n",
       "    .dataframe tbody tr th:only-of-type {\n",
       "        vertical-align: middle;\n",
       "    }\n",
       "\n",
       "    .dataframe tbody tr th {\n",
       "        vertical-align: top;\n",
       "    }\n",
       "\n",
       "    .dataframe thead th {\n",
       "        text-align: right;\n",
       "    }\n",
       "</style>\n",
       "<table border=\"1\" class=\"dataframe\">\n",
       "  <thead>\n",
       "    <tr style=\"text-align: right;\">\n",
       "      <th></th>\n",
       "      <th>tweet_id</th>\n",
       "      <th>ticker_symbol</th>\n",
       "    </tr>\n",
       "  </thead>\n",
       "  <tbody>\n",
       "    <tr>\n",
       "      <th>0</th>\n",
       "      <td>550803612197457920</td>\n",
       "      <td>AAPL</td>\n",
       "    </tr>\n",
       "    <tr>\n",
       "      <th>1</th>\n",
       "      <td>550803610825928706</td>\n",
       "      <td>AAPL</td>\n",
       "    </tr>\n",
       "    <tr>\n",
       "      <th>2</th>\n",
       "      <td>550803225113157632</td>\n",
       "      <td>AAPL</td>\n",
       "    </tr>\n",
       "  </tbody>\n",
       "</table>\n",
       "</div>"
      ],
      "text/plain": [
       "             tweet_id ticker_symbol\n",
       "0  550803612197457920          AAPL\n",
       "1  550803610825928706          AAPL\n",
       "2  550803225113157632          AAPL"
      ]
     },
     "execution_count": 6,
     "metadata": {},
     "output_type": "execute_result"
    }
   ],
   "source": [
    "df2.head(3)"
   ]
  },
  {
   "cell_type": "code",
   "execution_count": 7,
   "id": "d6254156-3bb4-4d39-bf28-838ba7844349",
   "metadata": {},
   "outputs": [
    {
     "data": {
      "text/html": [
       "<div>\n",
       "<style scoped>\n",
       "    .dataframe tbody tr th:only-of-type {\n",
       "        vertical-align: middle;\n",
       "    }\n",
       "\n",
       "    .dataframe tbody tr th {\n",
       "        vertical-align: top;\n",
       "    }\n",
       "\n",
       "    .dataframe thead th {\n",
       "        text-align: right;\n",
       "    }\n",
       "</style>\n",
       "<table border=\"1\" class=\"dataframe\">\n",
       "  <thead>\n",
       "    <tr style=\"text-align: right;\">\n",
       "      <th></th>\n",
       "      <th>tweet_id</th>\n",
       "      <th>writer</th>\n",
       "      <th>post_date</th>\n",
       "      <th>body</th>\n",
       "      <th>comment_num</th>\n",
       "      <th>retweet_num</th>\n",
       "      <th>like_num</th>\n",
       "    </tr>\n",
       "  </thead>\n",
       "  <tbody>\n",
       "    <tr>\n",
       "      <th>0</th>\n",
       "      <td>550441509175443456</td>\n",
       "      <td>VisualStockRSRC</td>\n",
       "      <td>1420070457</td>\n",
       "      <td>lx21 made $10,008  on $AAPL -Check it out! htt...</td>\n",
       "      <td>0</td>\n",
       "      <td>0</td>\n",
       "      <td>1</td>\n",
       "    </tr>\n",
       "    <tr>\n",
       "      <th>1</th>\n",
       "      <td>550441672312512512</td>\n",
       "      <td>KeralaGuy77</td>\n",
       "      <td>1420070496</td>\n",
       "      <td>Insanity of today weirdo massive selling. $aap...</td>\n",
       "      <td>0</td>\n",
       "      <td>0</td>\n",
       "      <td>0</td>\n",
       "    </tr>\n",
       "    <tr>\n",
       "      <th>2</th>\n",
       "      <td>550441732014223360</td>\n",
       "      <td>DozenStocks</td>\n",
       "      <td>1420070510</td>\n",
       "      <td>S&amp;P100 #Stocks Performance $HD $LOW $SBUX $TGT...</td>\n",
       "      <td>0</td>\n",
       "      <td>0</td>\n",
       "      <td>0</td>\n",
       "    </tr>\n",
       "  </tbody>\n",
       "</table>\n",
       "</div>"
      ],
      "text/plain": [
       "             tweet_id           writer   post_date  \\\n",
       "0  550441509175443456  VisualStockRSRC  1420070457   \n",
       "1  550441672312512512      KeralaGuy77  1420070496   \n",
       "2  550441732014223360      DozenStocks  1420070510   \n",
       "\n",
       "                                                body  comment_num  \\\n",
       "0  lx21 made $10,008  on $AAPL -Check it out! htt...            0   \n",
       "1  Insanity of today weirdo massive selling. $aap...            0   \n",
       "2  S&P100 #Stocks Performance $HD $LOW $SBUX $TGT...            0   \n",
       "\n",
       "   retweet_num  like_num  \n",
       "0            0         1  \n",
       "1            0         0  \n",
       "2            0         0  "
      ]
     },
     "execution_count": 7,
     "metadata": {},
     "output_type": "execute_result"
    }
   ],
   "source": [
    "df3.head(3)"
   ]
  },
  {
   "cell_type": "markdown",
   "id": "d3703249-8abf-4d60-9dfe-31b5b1badbf3",
   "metadata": {},
   "source": [
    "# Fetching the tweet commentary for Tesla"
   ]
  },
  {
   "cell_type": "code",
   "execution_count": 8,
   "id": "e0cfd374-0f01-40fe-97b7-c9fcd8090108",
   "metadata": {},
   "outputs": [
    {
     "name": "stdout",
     "output_type": "stream",
     "text": [
      "ticker_symbol\n",
      "TSLA    1096868\n",
      "Name: count, dtype: int64\n"
     ]
    }
   ],
   "source": [
    "df2_Tesla = df2.loc[df2['ticker_symbol'] == \"TSLA\"]\n",
    "print(df2_Tesla['ticker_symbol'].value_counts())"
   ]
  },
  {
   "cell_type": "code",
   "execution_count": 9,
   "id": "9250234e-d75f-432c-baee-8a15d7cc9d5f",
   "metadata": {},
   "outputs": [
    {
     "data": {
      "text/plain": [
       "(1096868, 2)"
      ]
     },
     "execution_count": 9,
     "metadata": {},
     "output_type": "execute_result"
    }
   ],
   "source": [
    "df2_Tesla.shape"
   ]
  },
  {
   "cell_type": "code",
   "execution_count": 10,
   "id": "bb06aa22-ace4-44b2-89d6-b291165752ae",
   "metadata": {},
   "outputs": [
    {
     "data": {
      "text/html": [
       "<div>\n",
       "<style scoped>\n",
       "    .dataframe tbody tr th:only-of-type {\n",
       "        vertical-align: middle;\n",
       "    }\n",
       "\n",
       "    .dataframe tbody tr th {\n",
       "        vertical-align: top;\n",
       "    }\n",
       "\n",
       "    .dataframe thead th {\n",
       "        text-align: right;\n",
       "    }\n",
       "</style>\n",
       "<table border=\"1\" class=\"dataframe\">\n",
       "  <thead>\n",
       "    <tr style=\"text-align: right;\">\n",
       "      <th></th>\n",
       "      <th>tweet_id</th>\n",
       "      <th>ticker_symbol</th>\n",
       "    </tr>\n",
       "  </thead>\n",
       "  <tbody>\n",
       "    <tr>\n",
       "      <th>3239577</th>\n",
       "      <td>550442977802207232</td>\n",
       "      <td>TSLA</td>\n",
       "    </tr>\n",
       "    <tr>\n",
       "      <th>3239578</th>\n",
       "      <td>550443807834402816</td>\n",
       "      <td>TSLA</td>\n",
       "    </tr>\n",
       "    <tr>\n",
       "      <th>3239579</th>\n",
       "      <td>550443808606126081</td>\n",
       "      <td>TSLA</td>\n",
       "    </tr>\n",
       "  </tbody>\n",
       "</table>\n",
       "</div>"
      ],
      "text/plain": [
       "                   tweet_id ticker_symbol\n",
       "3239577  550442977802207232          TSLA\n",
       "3239578  550443807834402816          TSLA\n",
       "3239579  550443808606126081          TSLA"
      ]
     },
     "execution_count": 10,
     "metadata": {},
     "output_type": "execute_result"
    }
   ],
   "source": [
    "df2_Tesla.head(3)"
   ]
  },
  {
   "cell_type": "code",
   "execution_count": 11,
   "id": "1703f652-f1d8-4013-902f-d05d32b61c34",
   "metadata": {},
   "outputs": [],
   "source": [
    "tesla_tweet = pd.merge(df2_Tesla, df3, on='tweet_id')"
   ]
  },
  {
   "cell_type": "code",
   "execution_count": 12,
   "id": "2ef97dc5-7817-4835-bd4a-4436f1851e37",
   "metadata": {},
   "outputs": [
    {
     "data": {
      "text/html": [
       "<div>\n",
       "<style scoped>\n",
       "    .dataframe tbody tr th:only-of-type {\n",
       "        vertical-align: middle;\n",
       "    }\n",
       "\n",
       "    .dataframe tbody tr th {\n",
       "        vertical-align: top;\n",
       "    }\n",
       "\n",
       "    .dataframe thead th {\n",
       "        text-align: right;\n",
       "    }\n",
       "</style>\n",
       "<table border=\"1\" class=\"dataframe\">\n",
       "  <thead>\n",
       "    <tr style=\"text-align: right;\">\n",
       "      <th></th>\n",
       "      <th>tweet_id</th>\n",
       "      <th>ticker_symbol</th>\n",
       "      <th>writer</th>\n",
       "      <th>post_date</th>\n",
       "      <th>body</th>\n",
       "      <th>comment_num</th>\n",
       "      <th>retweet_num</th>\n",
       "      <th>like_num</th>\n",
       "    </tr>\n",
       "  </thead>\n",
       "  <tbody>\n",
       "    <tr>\n",
       "      <th>0</th>\n",
       "      <td>550442977802207232</td>\n",
       "      <td>TSLA</td>\n",
       "      <td>ShowDreamCar</td>\n",
       "      <td>1420070807</td>\n",
       "      <td>$GM $TSLA: Volkswagen Pushes 2014 Record Recal...</td>\n",
       "      <td>0</td>\n",
       "      <td>0</td>\n",
       "      <td>1</td>\n",
       "    </tr>\n",
       "    <tr>\n",
       "      <th>1</th>\n",
       "      <td>550443807834402816</td>\n",
       "      <td>TSLA</td>\n",
       "      <td>i_Know_First</td>\n",
       "      <td>1420071005</td>\n",
       "      <td>Swing Trading: Up To 8.91% Return In 14 Days h...</td>\n",
       "      <td>0</td>\n",
       "      <td>0</td>\n",
       "      <td>1</td>\n",
       "    </tr>\n",
       "    <tr>\n",
       "      <th>2</th>\n",
       "      <td>550443808606126081</td>\n",
       "      <td>TSLA</td>\n",
       "      <td>aaplstocknews</td>\n",
       "      <td>1420071005</td>\n",
       "      <td>Swing Trading: Up To 8.91% Return In 14 Days h...</td>\n",
       "      <td>0</td>\n",
       "      <td>0</td>\n",
       "      <td>1</td>\n",
       "    </tr>\n",
       "  </tbody>\n",
       "</table>\n",
       "</div>"
      ],
      "text/plain": [
       "             tweet_id ticker_symbol         writer   post_date  \\\n",
       "0  550442977802207232          TSLA   ShowDreamCar  1420070807   \n",
       "1  550443807834402816          TSLA   i_Know_First  1420071005   \n",
       "2  550443808606126081          TSLA  aaplstocknews  1420071005   \n",
       "\n",
       "                                                body  comment_num  \\\n",
       "0  $GM $TSLA: Volkswagen Pushes 2014 Record Recal...            0   \n",
       "1  Swing Trading: Up To 8.91% Return In 14 Days h...            0   \n",
       "2  Swing Trading: Up To 8.91% Return In 14 Days h...            0   \n",
       "\n",
       "   retweet_num  like_num  \n",
       "0            0         1  \n",
       "1            0         1  \n",
       "2            0         1  "
      ]
     },
     "execution_count": 12,
     "metadata": {},
     "output_type": "execute_result"
    }
   ],
   "source": [
    "tesla_tweet.head(3)"
   ]
  },
  {
   "cell_type": "code",
   "execution_count": 13,
   "id": "71f34d52-ae37-4ff6-961c-a7430a302b8a",
   "metadata": {},
   "outputs": [],
   "source": [
    "tesla_tweet['post_date'] = pd.to_datetime(tesla_tweet['post_date'],unit='s').dt.strftime('%Y-%m-%d')"
   ]
  },
  {
   "cell_type": "markdown",
   "id": "d32428b5-1a60-40fe-b734-b72d7bb20eef",
   "metadata": {},
   "source": [
    "# Basic Information about Tesla's Tweet Commentary"
   ]
  },
  {
   "cell_type": "code",
   "execution_count": 14,
   "id": "ddc62f00-ec9d-42ad-ac66-ce5af97a6c8d",
   "metadata": {},
   "outputs": [
    {
     "data": {
      "text/html": [
       "<div>\n",
       "<style scoped>\n",
       "    .dataframe tbody tr th:only-of-type {\n",
       "        vertical-align: middle;\n",
       "    }\n",
       "\n",
       "    .dataframe tbody tr th {\n",
       "        vertical-align: top;\n",
       "    }\n",
       "\n",
       "    .dataframe thead th {\n",
       "        text-align: right;\n",
       "    }\n",
       "</style>\n",
       "<table border=\"1\" class=\"dataframe\">\n",
       "  <thead>\n",
       "    <tr style=\"text-align: right;\">\n",
       "      <th></th>\n",
       "      <th>tweet_id</th>\n",
       "      <th>ticker_symbol</th>\n",
       "      <th>writer</th>\n",
       "      <th>post_date</th>\n",
       "      <th>body</th>\n",
       "      <th>comment_num</th>\n",
       "      <th>retweet_num</th>\n",
       "      <th>like_num</th>\n",
       "    </tr>\n",
       "  </thead>\n",
       "  <tbody>\n",
       "    <tr>\n",
       "      <th>0</th>\n",
       "      <td>550442977802207232</td>\n",
       "      <td>TSLA</td>\n",
       "      <td>ShowDreamCar</td>\n",
       "      <td>2015-01-01</td>\n",
       "      <td>$GM $TSLA: Volkswagen Pushes 2014 Record Recal...</td>\n",
       "      <td>0</td>\n",
       "      <td>0</td>\n",
       "      <td>1</td>\n",
       "    </tr>\n",
       "    <tr>\n",
       "      <th>1</th>\n",
       "      <td>550443807834402816</td>\n",
       "      <td>TSLA</td>\n",
       "      <td>i_Know_First</td>\n",
       "      <td>2015-01-01</td>\n",
       "      <td>Swing Trading: Up To 8.91% Return In 14 Days h...</td>\n",
       "      <td>0</td>\n",
       "      <td>0</td>\n",
       "      <td>1</td>\n",
       "    </tr>\n",
       "    <tr>\n",
       "      <th>2</th>\n",
       "      <td>550443808606126081</td>\n",
       "      <td>TSLA</td>\n",
       "      <td>aaplstocknews</td>\n",
       "      <td>2015-01-01</td>\n",
       "      <td>Swing Trading: Up To 8.91% Return In 14 Days h...</td>\n",
       "      <td>0</td>\n",
       "      <td>0</td>\n",
       "      <td>1</td>\n",
       "    </tr>\n",
       "    <tr>\n",
       "      <th>3</th>\n",
       "      <td>550443809700851716</td>\n",
       "      <td>TSLA</td>\n",
       "      <td>iknowfirst</td>\n",
       "      <td>2015-01-01</td>\n",
       "      <td>Swing Trading: Up To 8.91% Return In 14 Days h...</td>\n",
       "      <td>0</td>\n",
       "      <td>0</td>\n",
       "      <td>1</td>\n",
       "    </tr>\n",
       "    <tr>\n",
       "      <th>4</th>\n",
       "      <td>550443857142611968</td>\n",
       "      <td>TSLA</td>\n",
       "      <td>Cprediction</td>\n",
       "      <td>2015-01-01</td>\n",
       "      <td>Swing Trading: Up To 8.91% Return In 14 Days h...</td>\n",
       "      <td>0</td>\n",
       "      <td>0</td>\n",
       "      <td>1</td>\n",
       "    </tr>\n",
       "    <tr>\n",
       "      <th>...</th>\n",
       "      <td>...</td>\n",
       "      <td>...</td>\n",
       "      <td>...</td>\n",
       "      <td>...</td>\n",
       "      <td>...</td>\n",
       "      <td>...</td>\n",
       "      <td>...</td>\n",
       "      <td>...</td>\n",
       "    </tr>\n",
       "    <tr>\n",
       "      <th>1096863</th>\n",
       "      <td>1212158772015034369</td>\n",
       "      <td>TSLA</td>\n",
       "      <td>StockJoke</td>\n",
       "      <td>2019-12-31</td>\n",
       "      <td>I'm getting wasted on NYE, and thanks to @NHTS...</td>\n",
       "      <td>0</td>\n",
       "      <td>0</td>\n",
       "      <td>0</td>\n",
       "    </tr>\n",
       "    <tr>\n",
       "      <th>1096864</th>\n",
       "      <td>1212159099632267268</td>\n",
       "      <td>TSLA</td>\n",
       "      <td>sweetog76</td>\n",
       "      <td>2019-12-31</td>\n",
       "      <td>$TSLA Very Interesting dude:</td>\n",
       "      <td>0</td>\n",
       "      <td>0</td>\n",
       "      <td>0</td>\n",
       "    </tr>\n",
       "    <tr>\n",
       "      <th>1096865</th>\n",
       "      <td>1212159184931717120</td>\n",
       "      <td>TSLA</td>\n",
       "      <td>MelaynaLokosky</td>\n",
       "      <td>2019-12-31</td>\n",
       "      <td>If only 2020 brought more self-awareness to Te...</td>\n",
       "      <td>0</td>\n",
       "      <td>1</td>\n",
       "      <td>0</td>\n",
       "    </tr>\n",
       "    <tr>\n",
       "      <th>1096866</th>\n",
       "      <td>1212159838882533376</td>\n",
       "      <td>TSLA</td>\n",
       "      <td>ShortingIsFun</td>\n",
       "      <td>2019-12-31</td>\n",
       "      <td>In 2020 I may start Tweeting out positive news...</td>\n",
       "      <td>0</td>\n",
       "      <td>0</td>\n",
       "      <td>1</td>\n",
       "    </tr>\n",
       "    <tr>\n",
       "      <th>1096867</th>\n",
       "      <td>1212160015332728833</td>\n",
       "      <td>TSLA</td>\n",
       "      <td>Commuternyc</td>\n",
       "      <td>2019-12-31</td>\n",
       "      <td>Patiently Waiting for the no twitter sitter tw...</td>\n",
       "      <td>0</td>\n",
       "      <td>0</td>\n",
       "      <td>5</td>\n",
       "    </tr>\n",
       "  </tbody>\n",
       "</table>\n",
       "<p>1096868 rows × 8 columns</p>\n",
       "</div>"
      ],
      "text/plain": [
       "                    tweet_id ticker_symbol          writer   post_date  \\\n",
       "0         550442977802207232          TSLA    ShowDreamCar  2015-01-01   \n",
       "1         550443807834402816          TSLA    i_Know_First  2015-01-01   \n",
       "2         550443808606126081          TSLA   aaplstocknews  2015-01-01   \n",
       "3         550443809700851716          TSLA      iknowfirst  2015-01-01   \n",
       "4         550443857142611968          TSLA     Cprediction  2015-01-01   \n",
       "...                      ...           ...             ...         ...   \n",
       "1096863  1212158772015034369          TSLA       StockJoke  2019-12-31   \n",
       "1096864  1212159099632267268          TSLA       sweetog76  2019-12-31   \n",
       "1096865  1212159184931717120          TSLA  MelaynaLokosky  2019-12-31   \n",
       "1096866  1212159838882533376          TSLA   ShortingIsFun  2019-12-31   \n",
       "1096867  1212160015332728833          TSLA     Commuternyc  2019-12-31   \n",
       "\n",
       "                                                      body  comment_num  \\\n",
       "0        $GM $TSLA: Volkswagen Pushes 2014 Record Recal...            0   \n",
       "1        Swing Trading: Up To 8.91% Return In 14 Days h...            0   \n",
       "2        Swing Trading: Up To 8.91% Return In 14 Days h...            0   \n",
       "3        Swing Trading: Up To 8.91% Return In 14 Days h...            0   \n",
       "4        Swing Trading: Up To 8.91% Return In 14 Days h...            0   \n",
       "...                                                    ...          ...   \n",
       "1096863  I'm getting wasted on NYE, and thanks to @NHTS...            0   \n",
       "1096864                       $TSLA Very Interesting dude:            0   \n",
       "1096865  If only 2020 brought more self-awareness to Te...            0   \n",
       "1096866  In 2020 I may start Tweeting out positive news...            0   \n",
       "1096867  Patiently Waiting for the no twitter sitter tw...            0   \n",
       "\n",
       "         retweet_num  like_num  \n",
       "0                  0         1  \n",
       "1                  0         1  \n",
       "2                  0         1  \n",
       "3                  0         1  \n",
       "4                  0         1  \n",
       "...              ...       ...  \n",
       "1096863            0         0  \n",
       "1096864            0         0  \n",
       "1096865            1         0  \n",
       "1096866            0         1  \n",
       "1096867            0         5  \n",
       "\n",
       "[1096868 rows x 8 columns]"
      ]
     },
     "execution_count": 14,
     "metadata": {},
     "output_type": "execute_result"
    }
   ],
   "source": [
    "tesla_tweet"
   ]
  },
  {
   "cell_type": "code",
   "execution_count": 15,
   "id": "ec28ce9a-dd53-45e8-842a-5dba2a55df3c",
   "metadata": {},
   "outputs": [],
   "source": [
    "tweet_count = pd.DataFrame(tesla_tweet['post_date'].value_counts())\n",
    "tweet_count = tweet_count.reset_index()\n",
    "tweet_count.columns = ['Date', 'Amount']"
   ]
  },
  {
   "cell_type": "code",
   "execution_count": 16,
   "id": "778a1111-6d69-4160-9eb9-dfecb91a3e48",
   "metadata": {},
   "outputs": [
    {
     "data": {
      "text/html": [
       "<div>\n",
       "<style scoped>\n",
       "    .dataframe tbody tr th:only-of-type {\n",
       "        vertical-align: middle;\n",
       "    }\n",
       "\n",
       "    .dataframe tbody tr th {\n",
       "        vertical-align: top;\n",
       "    }\n",
       "\n",
       "    .dataframe thead th {\n",
       "        text-align: right;\n",
       "    }\n",
       "</style>\n",
       "<table border=\"1\" class=\"dataframe\">\n",
       "  <thead>\n",
       "    <tr style=\"text-align: right;\">\n",
       "      <th></th>\n",
       "      <th>Date</th>\n",
       "      <th>Amount</th>\n",
       "    </tr>\n",
       "  </thead>\n",
       "  <tbody>\n",
       "    <tr>\n",
       "      <th>0</th>\n",
       "      <td>2018-08-07</td>\n",
       "      <td>6408</td>\n",
       "    </tr>\n",
       "    <tr>\n",
       "      <th>1</th>\n",
       "      <td>2018-08-08</td>\n",
       "      <td>4624</td>\n",
       "    </tr>\n",
       "    <tr>\n",
       "      <th>2</th>\n",
       "      <td>2018-09-28</td>\n",
       "      <td>4443</td>\n",
       "    </tr>\n",
       "  </tbody>\n",
       "</table>\n",
       "</div>"
      ],
      "text/plain": [
       "         Date  Amount\n",
       "0  2018-08-07    6408\n",
       "1  2018-08-08    4624\n",
       "2  2018-09-28    4443"
      ]
     },
     "execution_count": 16,
     "metadata": {},
     "output_type": "execute_result"
    }
   ],
   "source": [
    "tweet_count.head(3)"
   ]
  },
  {
   "cell_type": "code",
   "execution_count": 17,
   "id": "5050e476-755b-417b-9a13-afabb9499b84",
   "metadata": {},
   "outputs": [
    {
     "data": {
      "text/html": [
       "<div>\n",
       "<style scoped>\n",
       "    .dataframe tbody tr th:only-of-type {\n",
       "        vertical-align: middle;\n",
       "    }\n",
       "\n",
       "    .dataframe tbody tr th {\n",
       "        vertical-align: top;\n",
       "    }\n",
       "\n",
       "    .dataframe thead th {\n",
       "        text-align: right;\n",
       "    }\n",
       "</style>\n",
       "<table border=\"1\" class=\"dataframe\">\n",
       "  <thead>\n",
       "    <tr style=\"text-align: right;\">\n",
       "      <th></th>\n",
       "      <th>Amount</th>\n",
       "    </tr>\n",
       "  </thead>\n",
       "  <tbody>\n",
       "    <tr>\n",
       "      <th>count</th>\n",
       "      <td>1826.000000</td>\n",
       "    </tr>\n",
       "    <tr>\n",
       "      <th>mean</th>\n",
       "      <td>600.694414</td>\n",
       "    </tr>\n",
       "    <tr>\n",
       "      <th>std</th>\n",
       "      <td>581.011815</td>\n",
       "    </tr>\n",
       "    <tr>\n",
       "      <th>min</th>\n",
       "      <td>19.000000</td>\n",
       "    </tr>\n",
       "    <tr>\n",
       "      <th>25%</th>\n",
       "      <td>237.000000</td>\n",
       "    </tr>\n",
       "    <tr>\n",
       "      <th>50%</th>\n",
       "      <td>406.000000</td>\n",
       "    </tr>\n",
       "    <tr>\n",
       "      <th>75%</th>\n",
       "      <td>779.000000</td>\n",
       "    </tr>\n",
       "    <tr>\n",
       "      <th>max</th>\n",
       "      <td>6408.000000</td>\n",
       "    </tr>\n",
       "  </tbody>\n",
       "</table>\n",
       "</div>"
      ],
      "text/plain": [
       "            Amount\n",
       "count  1826.000000\n",
       "mean    600.694414\n",
       "std     581.011815\n",
       "min      19.000000\n",
       "25%     237.000000\n",
       "50%     406.000000\n",
       "75%     779.000000\n",
       "max    6408.000000"
      ]
     },
     "execution_count": 17,
     "metadata": {},
     "output_type": "execute_result"
    }
   ],
   "source": [
    "# Basic statistics of tweet amounts\n",
    "tweet_count.describe()"
   ]
  },
  {
   "cell_type": "code",
   "execution_count": 18,
   "id": "100a3241-e6c4-480d-a8f4-5d917a30d431",
   "metadata": {},
   "outputs": [
    {
     "name": "stdout",
     "output_type": "stream",
     "text": [
      "<class 'pandas.core.frame.DataFrame'>\n",
      "RangeIndex: 1826 entries, 0 to 1825\n",
      "Data columns (total 2 columns):\n",
      " #   Column  Non-Null Count  Dtype \n",
      "---  ------  --------------  ----- \n",
      " 0   Date    1826 non-null   object\n",
      " 1   Amount  1826 non-null   int64 \n",
      "dtypes: int64(1), object(1)\n",
      "memory usage: 28.7+ KB\n"
     ]
    }
   ],
   "source": [
    "tweet_count.info()"
   ]
  },
  {
   "cell_type": "markdown",
   "id": "413c6794-9562-4a64-8881-34a0b36da29e",
   "metadata": {},
   "source": [
    "# Load the pre-trained FinBERT model"
   ]
  },
  {
   "cell_type": "code",
   "execution_count": 19,
   "id": "0aef5e54-e632-4ef8-bc5f-81a99c133069",
   "metadata": {},
   "outputs": [
    {
     "name": "stderr",
     "output_type": "stream",
     "text": [
      "Device set to use cpu\n"
     ]
    }
   ],
   "source": [
    "finbert_model = AutoModelForSequenceClassification.from_pretrained(\"ProsusAI/finbert\")\n",
    "finbert_tokenizer = AutoTokenizer.from_pretrained(\"ProsusAI/finbert\")\n",
    "\n",
    "# Create a sentiment analysis pipeline using FinBERT\n",
    "finbert_sentiment = pipeline(\"sentiment-analysis\", model=finbert_model, tokenizer=finbert_tokenizer)"
   ]
  },
  {
   "cell_type": "markdown",
   "id": "f3363e58-1d9e-4ebf-814f-260e998d2e29",
   "metadata": {},
   "source": [
    "# Sampling the first 100 tweets for analysis"
   ]
  },
  {
   "cell_type": "code",
   "execution_count": 20,
   "id": "0869cf97-5d20-4599-93cd-890916fffd42",
   "metadata": {},
   "outputs": [],
   "source": [
    "# Sample: only analyze the first 100 tweets to avoid slow processing\n",
    "sample_100 = tesla_tweet['body'].dropna().head(100)\n",
    "\n",
    "# Perform sentiment analysis using FinBERT\n",
    "results = finbert_sentiment(sample_100.tolist())\n",
    "\n",
    "# Add the sentiment results back to a new DataFrame\n",
    "sample_100_result = sample_100.reset_index(drop=True).to_frame()\n",
    "sample_100_result['sentiment'] = [r['label'] for r in results]\n",
    "sample_100_result['score'] = [r['score'] for r in results]"
   ]
  },
  {
   "cell_type": "code",
   "execution_count": 21,
   "id": "d7246c92-1d8d-41df-8003-34d4e0b3bb8e",
   "metadata": {},
   "outputs": [
    {
     "data": {
      "text/html": [
       "<div>\n",
       "<style scoped>\n",
       "    .dataframe tbody tr th:only-of-type {\n",
       "        vertical-align: middle;\n",
       "    }\n",
       "\n",
       "    .dataframe tbody tr th {\n",
       "        vertical-align: top;\n",
       "    }\n",
       "\n",
       "    .dataframe thead th {\n",
       "        text-align: right;\n",
       "    }\n",
       "</style>\n",
       "<table border=\"1\" class=\"dataframe\">\n",
       "  <thead>\n",
       "    <tr style=\"text-align: right;\">\n",
       "      <th></th>\n",
       "      <th>body</th>\n",
       "      <th>sentiment</th>\n",
       "      <th>score</th>\n",
       "    </tr>\n",
       "  </thead>\n",
       "  <tbody>\n",
       "    <tr>\n",
       "      <th>0</th>\n",
       "      <td>$GM $TSLA: Volkswagen Pushes 2014 Record Recal...</td>\n",
       "      <td>positive</td>\n",
       "      <td>0.845187</td>\n",
       "    </tr>\n",
       "    <tr>\n",
       "      <th>1</th>\n",
       "      <td>Swing Trading: Up To 8.91% Return In 14 Days h...</td>\n",
       "      <td>positive</td>\n",
       "      <td>0.779838</td>\n",
       "    </tr>\n",
       "    <tr>\n",
       "      <th>2</th>\n",
       "      <td>Swing Trading: Up To 8.91% Return In 14 Days h...</td>\n",
       "      <td>positive</td>\n",
       "      <td>0.795317</td>\n",
       "    </tr>\n",
       "    <tr>\n",
       "      <th>3</th>\n",
       "      <td>Swing Trading: Up To 8.91% Return In 14 Days h...</td>\n",
       "      <td>positive</td>\n",
       "      <td>0.783499</td>\n",
       "    </tr>\n",
       "    <tr>\n",
       "      <th>4</th>\n",
       "      <td>Swing Trading: Up To 8.91% Return In 14 Days h...</td>\n",
       "      <td>positive</td>\n",
       "      <td>0.798992</td>\n",
       "    </tr>\n",
       "  </tbody>\n",
       "</table>\n",
       "</div>"
      ],
      "text/plain": [
       "                                                body sentiment     score\n",
       "0  $GM $TSLA: Volkswagen Pushes 2014 Record Recal...  positive  0.845187\n",
       "1  Swing Trading: Up To 8.91% Return In 14 Days h...  positive  0.779838\n",
       "2  Swing Trading: Up To 8.91% Return In 14 Days h...  positive  0.795317\n",
       "3  Swing Trading: Up To 8.91% Return In 14 Days h...  positive  0.783499\n",
       "4  Swing Trading: Up To 8.91% Return In 14 Days h...  positive  0.798992"
      ]
     },
     "execution_count": 21,
     "metadata": {},
     "output_type": "execute_result"
    }
   ],
   "source": [
    "sample_100_result.head()"
   ]
  },
  {
   "cell_type": "code",
   "execution_count": 22,
   "id": "2c6948ee-71c3-453c-a406-869286db7b35",
   "metadata": {},
   "outputs": [
    {
     "name": "stdout",
     "output_type": "stream",
     "text": [
      "sentiment\n",
      "neutral     85\n",
      "positive    12\n",
      "negative     3\n",
      "Name: count, dtype: int64\n"
     ]
    },
    {
     "data": {
      "image/png": "[encoded data removed]",
      "text/plain": [
       "<Figure size 640x480 with 1 Axes>"
      ]
     },
     "metadata": {},
     "output_type": "display_data"
    }
   ],
   "source": [
    "# Count the number of each sentiment category\n",
    "sentiment_counts_100 = sample_100_result['sentiment'].value_counts()\n",
    "\n",
    "# Print the sentiment counts\n",
    "print(sentiment_counts_100)\n",
    "\n",
    "# Plot a bar chart of sentiment distribution\n",
    "sentiment_counts_100.plot(kind='bar', title='Sentiment Distribution for Tesla Tweets')\n",
    "plt.xlabel('Sentiment')\n",
    "plt.ylabel('Count')\n",
    "plt.tight_layout()\n",
    "plt.show()"
   ]
  },
  {
   "cell_type": "markdown",
   "id": "5fc2316b-6cc4-4e70-9a20-e8b6d546721a",
   "metadata": {},
   "source": [
    "The vast majority of the sampled Tesla tweets are neutral, \n",
    "with only a small portion being positive or negative. \n",
    "This is common in financial texts, especially when tweets contain factual or ambiguous language."
   ]
  },
  {
   "cell_type": "markdown",
   "id": "70afdc72-8ebf-4473-850e-5ac26642d90d",
   "metadata": {},
   "source": [
    "# Sampling the first 1000 tweets for analysis"
   ]
  },
  {
   "cell_type": "code",
   "execution_count": 23,
   "id": "ed3f7864-f8a7-4284-a5fb-247fc5145dd0",
   "metadata": {},
   "outputs": [],
   "source": [
    "# Sample: only analyze the first 1000 tweets with body and post_date\n",
    "sample_1000 = tesla_tweet[['body', 'post_date']].dropna(subset=['body', 'post_date']).head(1000)\n",
    "\n",
    "# Perform sentiment analysis using FinBERT\n",
    "results = finbert_sentiment(sample_1000['body'].tolist())\n",
    "\n",
    "# Add the sentiment results back to a new DataFrame\n",
    "sample_1000_result = sample_1000.reset_index(drop=True).copy()\n",
    "sample_1000_result['sentiment'] = [r['label'] for r in results]\n",
    "sample_1000_result['score'] = [r['score'] for r in results]"
   ]
  },
  {
   "cell_type": "code",
   "execution_count": 24,
   "id": "735a8e03-4ec5-41c3-aaa8-657f85d641ff",
   "metadata": {},
   "outputs": [
    {
     "data": {
      "text/html": [
       "<div>\n",
       "<style scoped>\n",
       "    .dataframe tbody tr th:only-of-type {\n",
       "        vertical-align: middle;\n",
       "    }\n",
       "\n",
       "    .dataframe tbody tr th {\n",
       "        vertical-align: top;\n",
       "    }\n",
       "\n",
       "    .dataframe thead th {\n",
       "        text-align: right;\n",
       "    }\n",
       "</style>\n",
       "<table border=\"1\" class=\"dataframe\">\n",
       "  <thead>\n",
       "    <tr style=\"text-align: right;\">\n",
       "      <th></th>\n",
       "      <th>body</th>\n",
       "      <th>post_date</th>\n",
       "      <th>sentiment</th>\n",
       "      <th>score</th>\n",
       "    </tr>\n",
       "  </thead>\n",
       "  <tbody>\n",
       "    <tr>\n",
       "      <th>0</th>\n",
       "      <td>$GM $TSLA: Volkswagen Pushes 2014 Record Recal...</td>\n",
       "      <td>2015-01-01</td>\n",
       "      <td>positive</td>\n",
       "      <td>0.845187</td>\n",
       "    </tr>\n",
       "    <tr>\n",
       "      <th>1</th>\n",
       "      <td>Swing Trading: Up To 8.91% Return In 14 Days h...</td>\n",
       "      <td>2015-01-01</td>\n",
       "      <td>positive</td>\n",
       "      <td>0.779838</td>\n",
       "    </tr>\n",
       "    <tr>\n",
       "      <th>2</th>\n",
       "      <td>Swing Trading: Up To 8.91% Return In 14 Days h...</td>\n",
       "      <td>2015-01-01</td>\n",
       "      <td>positive</td>\n",
       "      <td>0.795317</td>\n",
       "    </tr>\n",
       "    <tr>\n",
       "      <th>3</th>\n",
       "      <td>Swing Trading: Up To 8.91% Return In 14 Days h...</td>\n",
       "      <td>2015-01-01</td>\n",
       "      <td>positive</td>\n",
       "      <td>0.783499</td>\n",
       "    </tr>\n",
       "    <tr>\n",
       "      <th>4</th>\n",
       "      <td>Swing Trading: Up To 8.91% Return In 14 Days h...</td>\n",
       "      <td>2015-01-01</td>\n",
       "      <td>positive</td>\n",
       "      <td>0.798992</td>\n",
       "    </tr>\n",
       "    <tr>\n",
       "      <th>...</th>\n",
       "      <td>...</td>\n",
       "      <td>...</td>\n",
       "      <td>...</td>\n",
       "      <td>...</td>\n",
       "    </tr>\n",
       "    <tr>\n",
       "      <th>995</th>\n",
       "      <td>$TSLA filled $205-$206 gap this morning and is...</td>\n",
       "      <td>2015-01-06</td>\n",
       "      <td>positive</td>\n",
       "      <td>0.928960</td>\n",
       "    </tr>\n",
       "    <tr>\n",
       "      <th>996</th>\n",
       "      <td>nice short covering rally on my $TSLA. I am tr...</td>\n",
       "      <td>2015-01-06</td>\n",
       "      <td>positive</td>\n",
       "      <td>0.574513</td>\n",
       "    </tr>\n",
       "    <tr>\n",
       "      <th>997</th>\n",
       "      <td>Automakers are stealing the buzz from gadgets ...</td>\n",
       "      <td>2015-01-06</td>\n",
       "      <td>neutral</td>\n",
       "      <td>0.882964</td>\n",
       "    </tr>\n",
       "    <tr>\n",
       "      <th>998</th>\n",
       "      <td>$TSLA held the key support again &amp; trying for ...</td>\n",
       "      <td>2015-01-06</td>\n",
       "      <td>neutral</td>\n",
       "      <td>0.613263</td>\n",
       "    </tr>\n",
       "    <tr>\n",
       "      <th>999</th>\n",
       "      <td>@JustinPulitzer bought sum just b4 $TSLA turne...</td>\n",
       "      <td>2015-01-06</td>\n",
       "      <td>neutral</td>\n",
       "      <td>0.885158</td>\n",
       "    </tr>\n",
       "  </tbody>\n",
       "</table>\n",
       "<p>1000 rows × 4 columns</p>\n",
       "</div>"
      ],
      "text/plain": [
       "                                                  body   post_date sentiment  \\\n",
       "0    $GM $TSLA: Volkswagen Pushes 2014 Record Recal...  2015-01-01  positive   \n",
       "1    Swing Trading: Up To 8.91% Return In 14 Days h...  2015-01-01  positive   \n",
       "2    Swing Trading: Up To 8.91% Return In 14 Days h...  2015-01-01  positive   \n",
       "3    Swing Trading: Up To 8.91% Return In 14 Days h...  2015-01-01  positive   \n",
       "4    Swing Trading: Up To 8.91% Return In 14 Days h...  2015-01-01  positive   \n",
       "..                                                 ...         ...       ...   \n",
       "995  $TSLA filled $205-$206 gap this morning and is...  2015-01-06  positive   \n",
       "996  nice short covering rally on my $TSLA. I am tr...  2015-01-06  positive   \n",
       "997  Automakers are stealing the buzz from gadgets ...  2015-01-06   neutral   \n",
       "998  $TSLA held the key support again & trying for ...  2015-01-06   neutral   \n",
       "999  @JustinPulitzer bought sum just b4 $TSLA turne...  2015-01-06   neutral   \n",
       "\n",
       "        score  \n",
       "0    0.845187  \n",
       "1    0.779838  \n",
       "2    0.795317  \n",
       "3    0.783499  \n",
       "4    0.798992  \n",
       "..        ...  \n",
       "995  0.928960  \n",
       "996  0.574513  \n",
       "997  0.882964  \n",
       "998  0.613263  \n",
       "999  0.885158  \n",
       "\n",
       "[1000 rows x 4 columns]"
      ]
     },
     "execution_count": 24,
     "metadata": {},
     "output_type": "execute_result"
    }
   ],
   "source": [
    "sample_1000_result"
   ]
  },
  {
   "cell_type": "code",
   "execution_count": 25,
   "id": "034f1567-8e11-4ce8-8fb5-84fc6ad119cb",
   "metadata": {},
   "outputs": [
    {
     "name": "stdout",
     "output_type": "stream",
     "text": [
      "sentiment\n",
      "neutral     824\n",
      "positive     89\n",
      "negative     87\n",
      "Name: count, dtype: int64\n"
     ]
    },
    {
     "data": {
      "image/png": "[encoded data removed]",
      "text/plain": [
       "<Figure size 640x480 with 1 Axes>"
      ]
     },
     "metadata": {},
     "output_type": "display_data"
    }
   ],
   "source": [
    "# Count the number of each sentiment category\n",
    "sentiment_counts_1000 = sample_1000_result['sentiment'].value_counts()\n",
    "\n",
    "# Print the sentiment counts\n",
    "print(sentiment_counts_1000)\n",
    "\n",
    "# Plot a bar chart of sentiment distribution\n",
    "sentiment_counts_1000.plot(kind='bar', title='Sentiment Distribution for Tesla Tweets')\n",
    "plt.xlabel('Sentiment')\n",
    "plt.ylabel('Count')\n",
    "plt.tight_layout()\n",
    "plt.show()"
   ]
  },
  {
   "cell_type": "markdown",
   "id": "095189f7-1909-4366-8fb7-2ae63c4bcf6a",
   "metadata": {},
   "source": [
    "The sentiment is still predominantly neutral, \n",
    "but the proportion of positive and negative tweets has increased compared to the smaller sample.\n",
    "This suggests that public sentiment towards Tesla on Twitter has more variation when considering a larger dataset."
   ]
  },
  {
   "cell_type": "markdown",
   "id": "f4574865-8950-4da4-9c0c-951335b512f8",
   "metadata": {},
   "source": [
    "# Visualizing the Daily Sentiment Trend"
   ]
  },
  {
   "cell_type": "code",
   "execution_count": 26,
   "id": "487fbcf1-cd29-46e1-82e7-9b90a033fb9b",
   "metadata": {},
   "outputs": [
    {
     "data": {
      "image/png": "[encoded data removed]",
      "text/plain": [
       "<Figure size 800x500 with 1 Axes>"
      ]
     },
     "metadata": {},
     "output_type": "display_data"
    }
   ],
   "source": [
    "# Group by 'date' and calculate sentiment proportions\n",
    "sentiment_by_date = sample_1000_result.groupby('post_date')['sentiment'].value_counts(normalize=True).unstack().fillna(0)\n",
    "\n",
    "# Plot sentiment over time by date\n",
    "sentiment_by_date.plot(kind='line', figsize=(8, 5), title='Sentiment Trends for Tesla Tweets Over Time (Daily)')\n",
    "plt.xlabel('Date')\n",
    "plt.ylabel('Proportion of Sentiment')\n",
    "plt.legend(title='Sentiment', labels=['Neutral', 'Positive', 'Negative'])\n",
    "plt.tight_layout()\n",
    "plt.show()"
   ]
  }
 ],
 "metadata": {
  "kernelspec": {
   "display_name": "Python 3 (ipykernel)",
   "language": "python",
   "name": "python3"
  },
  "language_info": {
   "codemirror_mode": {
    "name": "ipython",
    "version": 3
   },
   "file_extension": ".py",
   "mimetype": "text/x-python",
   "name": "python",
   "nbconvert_exporter": "python",
   "pygments_lexer": "ipython3",
   "version": "3.12.7"
  }
 },
 "nbformat": 4,
 "nbformat_minor": 5
}
